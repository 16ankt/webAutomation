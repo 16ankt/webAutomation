{
 "cells": [
  {
   "cell_type": "code",
   "execution_count": 12,
   "metadata": {},
   "outputs": [
    {
     "name": "stdout",
     "output_type": "stream",
     "text": [
      "Google\n",
      "20\n",
      "WWE\n",
      "\n",
      "WWE Friday Night Smackdown!\n",
      "American television program\n",
      "WWE News\n",
      "TV program\n",
      "wwe smackdown results\n",
      "\n",
      "wwe royal rumble 2023\n",
      "\n",
      "WWE Raw\n"
     ]
    }
   ],
   "source": [
    "from selenium import webdriver\n",
    "from selenium.webdriver.common.by import By\n",
    "import time\n",
    "driver = webdriver.Chrome()\n",
    "driver.implicitly_wait(5)\n",
    "driver.get('http://www.google.com')\n",
    "print(driver.title)\n",
    "driver.find_element(By.NAME ,'q').send_keys(\"WWE\")\n",
    "optionsList = driver.find_elements(By.CSS_SELECTOR, 'ul.G43f7e li span')\n",
    "\n",
    "print(len(optionsList))\n",
    "\n",
    "for ele in optionsList:\n",
    "    print(ele.text)\n",
    "    if ele.text == 'WWE Raw':\n",
    "        ele.click()\n",
    "        break\n",
    "\n",
    "\n",
    "time.sleep(5)\n",
    "driver.quit()"
   ]
  }
 ],
 "metadata": {
  "kernelspec": {
   "display_name": "Python 3",
   "language": "python",
   "name": "python3"
  },
  "language_info": {
   "codemirror_mode": {
    "name": "ipython",
    "version": 3
   },
   "file_extension": ".py",
   "mimetype": "text/x-python",
   "name": "python",
   "nbconvert_exporter": "python",
   "pygments_lexer": "ipython3",
   "version": "3.10.9"
  },
  "orig_nbformat": 4,
  "vscode": {
   "interpreter": {
    "hash": "0661ced1479b554591b1d068660aa297d498679286224412137f5b40f78aabd9"
   }
  }
 },
 "nbformat": 4,
 "nbformat_minor": 2
}
