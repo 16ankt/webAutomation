{
 "cells": [
  {
   "cell_type": "code",
   "execution_count": 4,
   "metadata": {},
   "outputs": [],
   "source": [
    "# Downloads driver which suits your browser version\n",
    "from selenium import webdriver\n",
    "from selenium.webdriver.common.by import By\n",
    "from webdriver_manager.chrome import ChromeDriverManager\n",
    "from webdriver_manager.firefox import GeckoDriverManager\n",
    "import time"
   ]
  },
  {
   "cell_type": "code",
   "execution_count": 8,
   "metadata": {},
   "outputs": [],
   "source": [
    "browserName = 'Chromejk'"
   ]
  },
  {
   "cell_type": "code",
   "execution_count": 10,
   "metadata": {},
   "outputs": [
    {
     "name": "stdout",
     "output_type": "stream",
     "text": [
      "Please enter correct browser name :)\n"
     ]
    },
    {
     "ename": "Exception",
     "evalue": "Driver not found",
     "output_type": "error",
     "traceback": [
      "\u001b[1;31m---------------------------------------------------------------------------\u001b[0m",
      "\u001b[1;31mException\u001b[0m                                 Traceback (most recent call last)",
      "Cell \u001b[1;32mIn [10], line 10\u001b[0m\n\u001b[0;32m      8\u001b[0m \u001b[39melse\u001b[39;00m:\n\u001b[0;32m      9\u001b[0m     \u001b[39mprint\u001b[39m(\u001b[39m'\u001b[39m\u001b[39mPlease enter correct browser name :)\u001b[39m\u001b[39m'\u001b[39m)\n\u001b[1;32m---> 10\u001b[0m     \u001b[39mraise\u001b[39;00m \u001b[39mException\u001b[39;00m(\u001b[39m'\u001b[39m\u001b[39mDriver not found\u001b[39m\u001b[39m'\u001b[39m)\n\u001b[0;32m     13\u001b[0m driver\u001b[39m.\u001b[39mimplicitly_wait(\u001b[39m5\u001b[39m)\n\u001b[0;32m     15\u001b[0m driver\u001b[39m.\u001b[39mget(\u001b[39m'\u001b[39m\u001b[39mhttps://app.hubspot.com/login\u001b[39m\u001b[39m'\u001b[39m)\n",
      "\u001b[1;31mException\u001b[0m: Driver not found"
     ]
    }
   ],
   "source": [
    "# Download only if driver is not found in cache\n",
    "\n",
    "if browserName == 'Chrome':\n",
    "    driver= webdriver.Chrome(ChromeDriverManager().install())\n",
    "elif browserName == 'firefox':\n",
    "    driver = webdriver.Firefox(executable_path=GeckoDriverManager().install())\n",
    "\n",
    "else:\n",
    "    print('Please enter correct browser name :)')\n",
    "    raise Exception('Driver not found')\n",
    "\n",
    "\n",
    "driver.implicitly_wait(5)\n",
    "\n",
    "driver.get('https://app.hubspot.com/login')\n",
    "driver.find_element(By.ID, 'username').send_keys('testing@gmail.com')\n",
    "driver.find_element(By.ID, 'password').send_keys('testing@12345')\n",
    "driver.find_element(By.ID,'loginBtn').click()\n",
    "\n",
    "\n",
    "print(driver.title)\n",
    "time.sleep(5)\n",
    "\n",
    "driver.quit()\n",
    "\n"
   ]
  }
 ],
 "metadata": {
  "kernelspec": {
   "display_name": "Python 3",
   "language": "python",
   "name": "python3"
  },
  "language_info": {
   "codemirror_mode": {
    "name": "ipython",
    "version": 3
   },
   "file_extension": ".py",
   "mimetype": "text/x-python",
   "name": "python",
   "nbconvert_exporter": "python",
   "pygments_lexer": "ipython3",
   "version": "3.10.9"
  },
  "orig_nbformat": 4,
  "vscode": {
   "interpreter": {
    "hash": "0661ced1479b554591b1d068660aa297d498679286224412137f5b40f78aabd9"
   }
  }
 },
 "nbformat": 4,
 "nbformat_minor": 2
}
