{
 "cells": [
  {
   "cell_type": "code",
   "execution_count": 3,
   "metadata": {},
   "outputs": [],
   "source": [
    "from selenium import webdriver \n",
    "from selenium.webdriver.common.by import By\n",
    "from webdriver_manager.chrome import ChromeDriverManager\n",
    "import time   \n"
   ]
  },
  {
   "cell_type": "code",
   "execution_count": 11,
   "metadata": {},
   "outputs": [
    {
     "name": "stderr",
     "output_type": "stream",
     "text": [
      "C:\\Users\\rapha\\AppData\\Local\\Temp\\ipykernel_17164\\637440760.py:1: DeprecationWarning: executable_path has been deprecated, please pass in a Service object\n",
      "  driver = webdriver.Chrome(ChromeDriverManager().install())\n"
     ]
    },
    {
     "ename": "ElementClickInterceptedException",
     "evalue": "Message: element click intercepted: Element is not clickable at point (86, 1979)\n  (Session info: chrome=109.0.5414.120)\nStacktrace:\nBacktrace:\n\t(No symbol) [0x00D36643]\n\t(No symbol) [0x00CCBE21]\n\t(No symbol) [0x00BCDA9D]\n\t(No symbol) [0x00C092B2]\n\t(No symbol) [0x00C06970]\n\t(No symbol) [0x00C03E0B]\n\t(No symbol) [0x00C02548]\n\t(No symbol) [0x00BF6B13]\n\t(No symbol) [0x00C1FD7C]\n\t(No symbol) [0x00BF641F]\n\t(No symbol) [0x00C200D4]\n\t(No symbol) [0x00C36B09]\n\t(No symbol) [0x00C1FB76]\n\t(No symbol) [0x00BF49C1]\n\t(No symbol) [0x00BF5E5D]\n\tGetHandleVerifier [0x00FAA142+2497106]\n\tGetHandleVerifier [0x00FD85D3+2686691]\n\tGetHandleVerifier [0x00FDBB9C+2700460]\n\tGetHandleVerifier [0x00DE3B10+635936]\n\t(No symbol) [0x00CD4A1F]\n\t(No symbol) [0x00CDA418]\n\t(No symbol) [0x00CDA505]\n\t(No symbol) [0x00CE508B]\n\tBaseThreadInitThunk [0x76277D69+25]\n\tRtlInitializeExceptionChain [0x7701BB9B+107]\n\tRtlClearBits [0x7701BB1F+191]\n",
     "output_type": "error",
     "traceback": [
      "\u001b[1;31m---------------------------------------------------------------------------\u001b[0m",
      "\u001b[1;31mElementClickInterceptedException\u001b[0m          Traceback (most recent call last)",
      "Cell \u001b[1;32mIn [11], line 19\u001b[0m\n\u001b[0;32m     17\u001b[0m businessEmail\u001b[39m.\u001b[39msend_keys(\u001b[39m\"\u001b[39m\u001b[39mtesting@123\u001b[39m\u001b[39m\"\u001b[39m)\n\u001b[0;32m     18\u001b[0m phoneNumber\u001b[39m.\u001b[39msend_keys(\u001b[39m\"\u001b[39m\u001b[39m123456789\u001b[39m\u001b[39m\"\u001b[39m)\n\u001b[1;32m---> 19\u001b[0m articles\u001b[39m.\u001b[39;49mclick()\n",
      "File \u001b[1;32m~\\AppData\\Local\\Packages\\PythonSoftwareFoundation.Python.3.10_qbz5n2kfra8p0\\LocalCache\\local-packages\\Python310\\site-packages\\selenium\\webdriver\\remote\\webelement.py:93\u001b[0m, in \u001b[0;36mWebElement.click\u001b[1;34m(self)\u001b[0m\n\u001b[0;32m     91\u001b[0m \u001b[39mdef\u001b[39;00m \u001b[39mclick\u001b[39m(\u001b[39mself\u001b[39m) \u001b[39m-\u001b[39m\u001b[39m>\u001b[39m \u001b[39mNone\u001b[39;00m:\n\u001b[0;32m     92\u001b[0m     \u001b[39m\"\"\"Clicks the element.\"\"\"\u001b[39;00m\n\u001b[1;32m---> 93\u001b[0m     \u001b[39mself\u001b[39;49m\u001b[39m.\u001b[39;49m_execute(Command\u001b[39m.\u001b[39;49mCLICK_ELEMENT)\n",
      "File \u001b[1;32m~\\AppData\\Local\\Packages\\PythonSoftwareFoundation.Python.3.10_qbz5n2kfra8p0\\LocalCache\\local-packages\\Python310\\site-packages\\selenium\\webdriver\\remote\\webelement.py:410\u001b[0m, in \u001b[0;36mWebElement._execute\u001b[1;34m(self, command, params)\u001b[0m\n\u001b[0;32m    408\u001b[0m     params \u001b[39m=\u001b[39m {}\n\u001b[0;32m    409\u001b[0m params[\u001b[39m\"\u001b[39m\u001b[39mid\u001b[39m\u001b[39m\"\u001b[39m] \u001b[39m=\u001b[39m \u001b[39mself\u001b[39m\u001b[39m.\u001b[39m_id\n\u001b[1;32m--> 410\u001b[0m \u001b[39mreturn\u001b[39;00m \u001b[39mself\u001b[39;49m\u001b[39m.\u001b[39;49m_parent\u001b[39m.\u001b[39;49mexecute(command, params)\n",
      "File \u001b[1;32m~\\AppData\\Local\\Packages\\PythonSoftwareFoundation.Python.3.10_qbz5n2kfra8p0\\LocalCache\\local-packages\\Python310\\site-packages\\selenium\\webdriver\\remote\\webdriver.py:444\u001b[0m, in \u001b[0;36mWebDriver.execute\u001b[1;34m(self, driver_command, params)\u001b[0m\n\u001b[0;32m    442\u001b[0m response \u001b[39m=\u001b[39m \u001b[39mself\u001b[39m\u001b[39m.\u001b[39mcommand_executor\u001b[39m.\u001b[39mexecute(driver_command, params)\n\u001b[0;32m    443\u001b[0m \u001b[39mif\u001b[39;00m response:\n\u001b[1;32m--> 444\u001b[0m     \u001b[39mself\u001b[39;49m\u001b[39m.\u001b[39;49merror_handler\u001b[39m.\u001b[39;49mcheck_response(response)\n\u001b[0;32m    445\u001b[0m     response[\u001b[39m\"\u001b[39m\u001b[39mvalue\u001b[39m\u001b[39m\"\u001b[39m] \u001b[39m=\u001b[39m \u001b[39mself\u001b[39m\u001b[39m.\u001b[39m_unwrap_value(response\u001b[39m.\u001b[39mget(\u001b[39m\"\u001b[39m\u001b[39mvalue\u001b[39m\u001b[39m\"\u001b[39m, \u001b[39mNone\u001b[39;00m))\n\u001b[0;32m    446\u001b[0m     \u001b[39mreturn\u001b[39;00m response\n",
      "File \u001b[1;32m~\\AppData\\Local\\Packages\\PythonSoftwareFoundation.Python.3.10_qbz5n2kfra8p0\\LocalCache\\local-packages\\Python310\\site-packages\\selenium\\webdriver\\remote\\errorhandler.py:249\u001b[0m, in \u001b[0;36mErrorHandler.check_response\u001b[1;34m(self, response)\u001b[0m\n\u001b[0;32m    247\u001b[0m         alert_text \u001b[39m=\u001b[39m value[\u001b[39m\"\u001b[39m\u001b[39malert\u001b[39m\u001b[39m\"\u001b[39m]\u001b[39m.\u001b[39mget(\u001b[39m\"\u001b[39m\u001b[39mtext\u001b[39m\u001b[39m\"\u001b[39m)\n\u001b[0;32m    248\u001b[0m     \u001b[39mraise\u001b[39;00m exception_class(message, screen, stacktrace, alert_text)  \u001b[39m# type: ignore[call-arg]  # mypy is not smart enough here\u001b[39;00m\n\u001b[1;32m--> 249\u001b[0m \u001b[39mraise\u001b[39;00m exception_class(message, screen, stacktrace)\n",
      "\u001b[1;31mElementClickInterceptedException\u001b[0m: Message: element click intercepted: Element is not clickable at point (86, 1979)\n  (Session info: chrome=109.0.5414.120)\nStacktrace:\nBacktrace:\n\t(No symbol) [0x00D36643]\n\t(No symbol) [0x00CCBE21]\n\t(No symbol) [0x00BCDA9D]\n\t(No symbol) [0x00C092B2]\n\t(No symbol) [0x00C06970]\n\t(No symbol) [0x00C03E0B]\n\t(No symbol) [0x00C02548]\n\t(No symbol) [0x00BF6B13]\n\t(No symbol) [0x00C1FD7C]\n\t(No symbol) [0x00BF641F]\n\t(No symbol) [0x00C200D4]\n\t(No symbol) [0x00C36B09]\n\t(No symbol) [0x00C1FB76]\n\t(No symbol) [0x00BF49C1]\n\t(No symbol) [0x00BF5E5D]\n\tGetHandleVerifier [0x00FAA142+2497106]\n\tGetHandleVerifier [0x00FD85D3+2686691]\n\tGetHandleVerifier [0x00FDBB9C+2700460]\n\tGetHandleVerifier [0x00DE3B10+635936]\n\t(No symbol) [0x00CD4A1F]\n\t(No symbol) [0x00CDA418]\n\t(No symbol) [0x00CDA505]\n\t(No symbol) [0x00CE508B]\n\tBaseThreadInitThunk [0x76277D69+25]\n\tRtlInitializeExceptionChain [0x7701BB9B+107]\n\tRtlClearBits [0x7701BB1F+191]\n"
     ]
    }
   ],
   "source": [
    "driver = webdriver.Chrome(ChromeDriverManager().install())\n",
    "driver.implicitly_wait(10)\n",
    "driver.get(\"https://www.orangehrm.com/orangehrm-30-day-trial\")\n",
    "\n",
    "# print(driver.title)\n",
    "\n",
    "\n",
    "username = driver.find_element(By.ID ,'Form_getForm_subdomain')\n",
    "fullname = driver.find_element(By.ID ,'Form_getForm_Name')\n",
    "businessEmail = driver.find_element(By.ID ,'Form_getForm_Email')\n",
    "phoneNumber = driver.find_element(By.ID ,'Form_getForm_Contact')\n",
    "articles = driver.find_element(By.LINK_TEXT,'OrangeHRM')\n",
    "\n",
    "\n",
    "username.send_keys(\"raphal18\")\n",
    "fullname.send_keys(\"Ankit Singh\")\n",
    "businessEmail.send_keys(\"testing@123\")\n",
    "phoneNumber.send_keys(\"123456789\")\n",
    "articles.click()\n",
    "\n",
    "\n",
    "\n",
    "\n",
    "\n",
    "\n",
    "\n",
    "\n",
    "\n"
   ]
  }
 ],
 "metadata": {
  "kernelspec": {
   "display_name": "Python 3",
   "language": "python",
   "name": "python3"
  },
  "language_info": {
   "codemirror_mode": {
    "name": "ipython",
    "version": 3
   },
   "file_extension": ".py",
   "mimetype": "text/x-python",
   "name": "python",
   "nbconvert_exporter": "python",
   "pygments_lexer": "ipython3",
   "version": "3.10.9"
  },
  "orig_nbformat": 4,
  "vscode": {
   "interpreter": {
    "hash": "0661ced1479b554591b1d068660aa297d498679286224412137f5b40f78aabd9"
   }
  }
 },
 "nbformat": 4,
 "nbformat_minor": 2
}
